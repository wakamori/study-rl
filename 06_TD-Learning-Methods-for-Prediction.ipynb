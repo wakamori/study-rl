{
 "cells": [
  {
   "cell_type": "markdown",
   "metadata": {},
   "source": [
    "# Temporal Difference Learning Methods for Prediction"
   ]
  },
  {
   "cell_type": "markdown",
   "metadata": {},
   "source": [
    "## What is Temporal Difference (TD) learning?\n",
    "\n",
    "### Review: Estimating Values from Returns\n",
    "\n",
    "$$\n",
    "\\begin{gather*}\n",
    "v_\\pi(s) \\doteq \\mathbf{E}_\\pi[G_t|S_t=s]\\\\\n",
    "V(S_t)\\leftarrow V(S_t)+\\alpha[G_t-V(S_t)]\n",
    "\\end{gather*} \n",
    "$$\n",
    "\n",
    "### Bootstrapping\n",
    "\n",
    "- Return\n",
    "\n",
    "$$\n",
    "\\begin{align*}\n",
    "G_t &\\doteq R_{t+1}+\\gamma R_{t+2} + \\gamma^2 R_{t+3} + \\ldots \\\\\n",
    "    &= R_{t+1} + \\gamma G_{t+1}\n",
    "\\end{align*}\n",
    "$$\n",
    "\n",
    "- Value Function\n",
    "\n",
    "$$\n",
    "\\begin{align*}\n",
    "v_\\pi(s) &\\doteq \\mathbf{E}_\\pi[G_t | S_t = s] \\\\\n",
    "         &=\\mathbf{E}_\\pi[R_{t+1}+\\gamma G_{t+1}|S_t=s] \\\\\n",
    "         &=R_{t+1}+\\gamma v_\\pi(S_{t+1})\n",
    "\\end{align*}\n",
    "$$\n",
    "\n",
    "### Temporal Difference\n",
    "\n",
    "$$\n",
    "\\begin{align*}\n",
    "&V(S_t) \\leftarrow V(S_t)+\\alpha[G_t-V(S_t)] \\\\\n",
    "&V(S_t) \\leftarrow V(S_t)+\\alpha[\\underbrace{\\underbrace{R_{t+1}+\\gamma V(S_{t+1})}_{\\text{TD target}}-V(S_t)}_{\\text{TD error }(\\delta_t)}] & (\\because G_t \\approx R_{t+1} + \\gamma V(S_{t+1}))\\\\\n",
    "\\end{align*}\n",
    "$$\n",
    "\n",
    "### 1-Step TD\n",
    "\n",
    "$$\n",
    "\\begin{align*}\n",
    "V(S_t) &\\leftarrow V(S_t)+\\alpha[R_{t+1}+\\gamma V(S_{t+1}) -V(S_t)] \\\\\n",
    "s_t    &\\leftarrow s_{t+1}\n",
    "\\end{align*}\n",
    "$$"
   ]
  },
  {
   "cell_type": "code",
   "execution_count": null,
   "metadata": {},
   "outputs": [],
   "source": []
  }
 ],
 "metadata": {
  "language_info": {
   "codemirror_mode": {
    "name": "ipython",
    "version": 3
   },
   "file_extension": ".py",
   "mimetype": "text/x-python",
   "name": "python",
   "nbconvert_exporter": "python",
   "pygments_lexer": "ipython3",
   "version": "3.7.5-final"
  },
  "orig_nbformat": 2,
  "kernelspec": {
   "name": "python3",
   "display_name": "Python 3"
  }
 },
 "nbformat": 4,
 "nbformat_minor": 2
}
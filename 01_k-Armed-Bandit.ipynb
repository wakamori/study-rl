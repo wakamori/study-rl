{
 "nbformat": 4,
 "nbformat_minor": 2,
 "metadata": {
  "language_info": {
   "name": "python",
   "codemirror_mode": {
    "name": "ipython",
    "version": 3
   },
   "version": "3.7.5-final"
  },
  "orig_nbformat": 2,
  "file_extension": ".py",
  "mimetype": "text/x-python",
  "name": "python",
  "npconvert_exporter": "python",
  "pygments_lexer": "ipython3",
  "version": 3,
  "kernelspec": {
   "name": "python3",
   "display_name": "Python 3"
  }
 },
 "cells": [
  {
   "cell_type": "markdown",
   "metadata": {},
   "source": [
    "# k-Armed Bandit\n",
    "\n",
    "- The *value* is the *expected reward*\n",
    "  $$\n",
    "  \\begin{align*}\n",
    "  q_\\star(a) \\doteq& \\textbf{E}[R_t|A_t=a]\\quad\\forall a\\in\\{1,\\cdots,k\\}\\\\\n",
    "  =& \\sum_r{p(r|a)r}\n",
    "  \\end{align*}\n",
    "  $$\n",
    "- the goal is to *maximize* the *expected reward*\n",
    "  $$\n",
    "  \\underset{a}{\\mathrm{argmax}}\\ q_\\star(a)\n",
    "  $$"
   ]
  },
  {
   "cell_type": "markdown",
   "metadata": {},
   "source": []
  },
  {
   "cell_type": "markdown",
   "metadata": {},
   "source": []
  }
 ]
}
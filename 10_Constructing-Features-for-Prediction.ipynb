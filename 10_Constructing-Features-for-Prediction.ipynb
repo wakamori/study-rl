{
 "cells": [
  {
   "cell_type": "markdown",
   "metadata": {},
   "source": [
    "# Constructing Features for Prediction"
   ]
  },
  {
   "cell_type": "markdown",
   "metadata": {},
   "source": [
    "## Coarse Coding\n",
    "\n",
    "- Tabular states can be represented with a *binary one-hot encoding*\n",
    "- *Coarse coding* is a generalization of *state aggregation*\n",
    "\n"
   ]
  },
  {
   "cell_type": "markdown",
   "metadata": {},
   "source": [
    "## Generalization Properties of Coarse Coding\n",
    "\n",
    "- The *size*, *number*, and *shape* of the features affects *generalization*\n",
    "- The resulting *shape intersections* affect the ability to *discriminate*"
   ]
  },
  {
   "cell_type": "code",
   "execution_count": null,
   "metadata": {},
   "outputs": [],
   "source": []
  }
 ],
 "metadata": {
  "language_info": {
   "codemirror_mode": {
    "name": "ipython",
    "version": 3
   },
   "file_extension": ".py",
   "mimetype": "text/x-python",
   "name": "python",
   "nbconvert_exporter": "python",
   "pygments_lexer": "ipython3",
   "version": 3
  },
  "orig_nbformat": 2
 },
 "nbformat": 4,
 "nbformat_minor": 2
}